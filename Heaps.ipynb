{
 "cells": [
  {
   "cell_type": "markdown",
   "metadata": {},
   "source": [
    "## Complete Binary Tree\n",
    "Heaps are complete Binary Trees with some properties <br>\n",
    "if we start giving a index to each node starting from root node then to left then right then left.left... <br>\n",
    "for a node with index n the index of child node are 2n+1, 2n+2 and index of it's parent are (n-1)//2<br>\n",
    "so we can put elements in an array and get child and parents by indexing mentioned above<br>\n",
    "Heaps are stored in an arrray with this relation between parents and childs"
   ]
  },
  {
   "cell_type": "markdown",
   "metadata": {},
   "source": [
    "### Aditional Property for Heaps (Value Property)\n",
    "Max heap follows property that a node is always greater than or equal to it's child nodes<br>\n",
    "In Min heap a node is smaller than its child nodes"
   ]
  },
  {
   "cell_type": "markdown",
   "metadata": {},
   "source": [
    "#### Insertion in Heaps\n",
    "\n",
    "1. To maintain property of Complete Binary Tree we have to add any new element to bottom left most available position\n",
    "Heapify up: \n",
    "2. Once the node is added we check it with it's parent node if the inserted node is greater than to maintain value property we will swap it with it's parent node\n",
    "3. then again we check it with it's parent recursively till we arrive it's correct position\n",
    "<br><br> Complexity of Insertion = O(height of Tree) = <b> O(log(n)) </b> where n are the no. of nodes"
   ]
  },
  {
   "cell_type": "markdown",
   "metadata": {},
   "source": [
    "#### Deletion in Heaps\n",
    "We cannot delete from any arbitrary postion else we have to destroy heap and then completely reconstruct Heap so time complexity of deleting a node is equal to time complexity of reconstructing a new heap <br>\n",
    "We can easily delete from bottom right (last element of array) - although this is not important as it doesn't gave a value which can have any significance i.e., maximum or minimum <br>\n",
    "We can delete from top and this will give maximum in Max Heap, minimum in Min Heap <br><br>\n",
    "Delete from Top : \n",
    "1. substitute top element with bottom left most elememt (last element of array) \n",
    "2. delete the last element O(1) operation either reduce the size of array(variable storing array size or remove (list or vector) from back<br>\n",
    "Heapify Up:\n",
    "3. check topmost element with it's child, substite if it is smaller than any of it's childs substitute it with largest of it's children\n",
    "4. again checked that element with it's children and recursively put it to it's correct postition \n",
    "<br> we can also delete any node like this between parent node and right most node( on path of root to right node)\n",
    "<br><br> Complexity of Insertion = O(height of Tree) = <b> O(log(n)) </b> where n are the no. of nodes"
   ]
  },
  {
   "cell_type": "markdown",
   "metadata": {},
   "source": [
    "### Creation of heaps\n",
    "1. From node n//2 to 1 run Heapify (down) as heapify up is top to down so we are going down to up also after n//2 all nodes are leaf node so no need to call hapify for them <br>\n",
    "Complexity : <b>O(n)</b> (n//2 nodes are added but since height is changing so after calculating time complexity comes to be O(n)\n",
    "<br>\n",
    "can use both top down and bottom down approach<br>\n",
    "for top down time compexity is O(nlogn) as we add each node and run heapify up for each node"
   ]
  },
  {
   "cell_type": "code",
   "execution_count": 102,
   "metadata": {},
   "outputs": [],
   "source": [
    "class Heaps:\n",
    "    def heapify(self, arr, n):\n",
    "        left = 2*n+1\n",
    "        right = 2*n+2\n",
    "        maxind = n\n",
    "        mx = arr[n]\n",
    "        if(left<len(arr)):\n",
    "            if(arr[left]>mx):\n",
    "                mx = arr[left]\n",
    "                maxind = left\n",
    "        if(right<len(arr)):\n",
    "            if(arr[right]>mx):\n",
    "                mx = arr[right]\n",
    "                maxind = right\n",
    "        if(maxind !=n):\n",
    "            arr[maxind] = arr[n]\n",
    "            arr[n] = mx\n",
    "            return self.heapify(arr,maxind)\n",
    "    def createHeap(self,arr):\n",
    "        for i in range((len(arr)//2)-1,-1,-1):\n",
    "            self.heapify(arr,i)\n",
    "    def insertNode(self,arr, n):\n",
    "        l = len(arr)\n",
    "        arr.append(n)\n",
    "        parent = (l-1)//2\n",
    "        while(parent>=0 and arr[parent]<arr[l]):\n",
    "            temp = arr[parent]\n",
    "            arr[parent] = arr[l]\n",
    "            arr[l] = temp\n",
    "            l = parent\n",
    "            parent = (l-1)//2\n",
    "    def popTop(self,arr):\n",
    "        result = arr[0]\n",
    "        arr.pop()\n",
    "        if(len(arr)>1):\n",
    "            arr[0] = arr[-1]\n",
    "            self.heapify(arr,0)\n",
    "        return result\n",
    "    def getTop(self,arr):\n",
    "        return arr[0]\n",
    "    def HeapSort(self,arr):\n",
    "        self.createHeap(arr)\n",
    "        brr = []\n",
    "        n  = len(arr)\n",
    "        for i in range(0,n):\n",
    "            brr.append(self.popTop(arr))\n",
    "        return brr"
   ]
  },
  {
   "cell_type": "code",
   "execution_count": 103,
   "metadata": {},
   "outputs": [],
   "source": [
    "a = [1,2,3,4,5,6,7,8]\n",
    "p = Heaps()\n",
    "p.createHeap(a)\n",
    "p.insertNode(a,11)\n",
    "p.insertNode(a,15)"
   ]
  },
  {
   "cell_type": "code",
   "execution_count": 104,
   "metadata": {},
   "outputs": [
    {
     "data": {
      "text/plain": [
       "[15, 11, 7, 5, 8, 6, 3, 2, 4, 1]"
      ]
     },
     "execution_count": 104,
     "metadata": {},
     "output_type": "execute_result"
    }
   ],
   "source": [
    "a"
   ]
  },
  {
   "cell_type": "code",
   "execution_count": 105,
   "metadata": {},
   "outputs": [
    {
     "data": {
      "text/plain": [
       "15"
      ]
     },
     "execution_count": 105,
     "metadata": {},
     "output_type": "execute_result"
    }
   ],
   "source": [
    "p.popTop(a)"
   ]
  },
  {
   "cell_type": "markdown",
   "metadata": {},
   "source": [
    "## HeapSort \n",
    "store all value in array and make it heap \n",
    "then remove top element n times so that heap becomes empty each time largest value comes so sorted array or don't remove value in getting top put it at back so final array will be sorted increasingly"
   ]
  },
  {
   "cell_type": "code",
   "execution_count": 108,
   "metadata": {},
   "outputs": [
    {
     "data": {
      "text/plain": [
       "[11, 8, 7, 6, 5, 4, 3, 2, 2]"
      ]
     },
     "execution_count": 108,
     "metadata": {},
     "output_type": "execute_result"
    }
   ],
   "source": [
    "a = p.HeapSort(a)\n",
    "a"
   ]
  },
  {
   "cell_type": "code",
   "execution_count": 116,
   "metadata": {},
   "outputs": [],
   "source": [
    "import heapq "
   ]
  },
  {
   "cell_type": "code",
   "execution_count": 134,
   "metadata": {},
   "outputs": [],
   "source": [
    "hp = [2,3,5,100,19,52,12,1]"
   ]
  },
  {
   "cell_type": "code",
   "execution_count": 136,
   "metadata": {},
   "outputs": [
    {
     "data": {
      "text/plain": [
       "[1, 2, 5, 3, 19, 52, 12, 100, 13]"
      ]
     },
     "execution_count": 136,
     "metadata": {},
     "output_type": "execute_result"
    }
   ],
   "source": [
    "heapq.heapify(hp)\n",
    "heapq.heappush(hp,13)\n",
    "hp"
   ]
  },
  {
   "cell_type": "code",
   "execution_count": 139,
   "metadata": {},
   "outputs": [
    {
     "data": {
      "text/plain": [
       "[3, 13, 5, 100, 19, 52, 12]"
      ]
     },
     "execution_count": 139,
     "metadata": {},
     "output_type": "execute_result"
    }
   ],
   "source": [
    "heapq.heappop(hp)\n",
    "hp"
   ]
  },
  {
   "cell_type": "raw",
   "metadata": {},
   "source": [
    "to implement maxheap using only min heap we can store negative value and then while taking out we can multiply them with -1"
   ]
  },
  {
   "cell_type": "markdown",
   "metadata": {},
   "source": [
    "### Merge K sorted Lists\n",
    "keep head of each list in heap and put smallest in resultant list and then push element's next in heap"
   ]
  },
  {
   "cell_type": "code",
   "execution_count": 4,
   "metadata": {},
   "outputs": [],
   "source": [
    "def MergeKSortedLists(self, Lists):\n",
    "    hp = []\n",
    "    for heads in lists:\n",
    "        if(heads):\n",
    "            heapq.heappush(hp, (heads.val, heads))\n",
    "    if not hp:\n",
    "        return None\n",
    "    result = heapq.heappop(hp)[1]\n",
    "    if(result.next):\n",
    "        heapq.heappush(hp, (result.next.val, result.next))\n",
    "    it = result\n",
    "    while(hp):\n",
    "        it.next = heapq.heappop(hp)[1]\n",
    "        it = it.next\n",
    "        if(it.next):\n",
    "            heapq.heappush(hp, (it.next.val, it.next))\n",
    "    return result"
   ]
  },
  {
   "cell_type": "markdown",
   "metadata": {},
   "source": [
    "### Kth Smallest in Sorted Array\n"
   ]
  },
  {
   "cell_type": "code",
   "execution_count": 11,
   "metadata": {
    "scrolled": true
   },
   "outputs": [],
   "source": [
    "def KthSmallestSorted(matrix, k):\n",
    "    hp = []\n",
    "    for i in range(min(len(matrix),k)):\n",
    "        heapq.heappush(hp, (matrix[i][0],i,0))\n",
    "    for i in range(k-1):\n",
    "        a = heapq.heappop(hp)\n",
    "        if(a[2]+1<len(matrix[0])):\n",
    "            heapq.heappush(hp, (matrix[a[1]][a[2]+1], a[1], a[2]+1))\n",
    "    return heapq.heappop(hp)[0]"
   ]
  }
 ],
 "metadata": {
  "kernelspec": {
   "display_name": "Python 3",
   "language": "python",
   "name": "python3"
  },
  "language_info": {
   "codemirror_mode": {
    "name": "ipython",
    "version": 3
   },
   "file_extension": ".py",
   "mimetype": "text/x-python",
   "name": "python",
   "nbconvert_exporter": "python",
   "pygments_lexer": "ipython3",
   "version": "3.9.1"
  }
 },
 "nbformat": 4,
 "nbformat_minor": 4
}
