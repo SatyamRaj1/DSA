{
 "cells": [
  {
   "cell_type": "markdown",
   "metadata": {},
   "source": [
    "# Linear Searching"
   ]
  },
  {
   "cell_type": "raw",
   "metadata": {},
   "source": [
    "linear searching is going through all elements so O(n)"
   ]
  },
  {
   "cell_type": "markdown",
   "metadata": {},
   "source": [
    "# Binary Searching "
   ]
  },
  {
   "cell_type": "raw",
   "metadata": {},
   "source": [
    "if array is sorted then it search in O(log(n))"
   ]
  },
  {
   "cell_type": "code",
   "execution_count": 4,
   "metadata": {},
   "outputs": [],
   "source": [
    "arr = [1,2,5,23,25,74,233,245,268]"
   ]
  },
  {
   "cell_type": "raw",
   "metadata": {},
   "source": [
    "Basic code:"
   ]
  },
  {
   "cell_type": "raw",
   "metadata": {},
   "source": [
    "low  = 0\n",
    "high = n-1\n",
    "while(low<=high):\n",
    "    m = (low+high)/2\n",
    "    if arr[m]==target:\n",
    "        return m\n",
    "    elif arr[m]>target:\n",
    "        high = m-1\n",
    "    else:\n",
    "        low = m+1\n",
    "return -1"
   ]
  },
  {
   "cell_type": "code",
   "execution_count": 8,
   "metadata": {},
   "outputs": [],
   "source": [
    "def BinarySearch(arr,target):    \n",
    "    low  = 0\n",
    "    high = len(arr)-1\n",
    "    while(low<=high):\n",
    "        m = (low+high)//2\n",
    "        if arr[m]==target:\n",
    "            return m\n",
    "        elif arr[m]>target:\n",
    "            high = m-1\n",
    "        else:\n",
    "            low = m+1\n",
    "    return -1"
   ]
  },
  {
   "cell_type": "code",
   "execution_count": 9,
   "metadata": {},
   "outputs": [
    {
     "data": {
      "text/plain": [
       "3"
      ]
     },
     "execution_count": 9,
     "metadata": {},
     "output_type": "execute_result"
    }
   ],
   "source": [
    "BinarySearch(arr,23)"
   ]
  },
  {
   "cell_type": "raw",
   "metadata": {},
   "source": [
    "Time Complexity : O(n)\n",
    "space complexity : O(1)"
   ]
  },
  {
   "cell_type": "raw",
   "metadata": {},
   "source": [
    "For Recursive call\n",
    "Time Complexity : O(log(n))\n",
    "Space Complexity : O(log(n))  (space used by call stack)"
   ]
  },
  {
   "cell_type": "markdown",
   "metadata": {},
   "source": [
    "#### Some variations of Binary Search"
   ]
  },
  {
   "cell_type": "markdown",
   "metadata": {},
   "source": [
    "##### Binary Search in sorted array containing duplicates\n",
    "if we use above algorithm then binary search will return any of the repeated target's index\n",
    "But if we have to find out first/last target's index or if we have to find total no. of targets's appeared( find first,last thel last-first+1"
   ]
  },
  {
   "cell_type": "raw",
   "metadata": {},
   "source": [
    "for ex if we have to find first"
   ]
  },
  {
   "cell_type": "raw",
   "metadata": {},
   "source": [
    "set result  = -1\n",
    "if we find our target, update result with that index but don't break loop\n",
    "instead make high = mid(found index)-1 and then again check, if we again find then update result"
   ]
  },
  {
   "cell_type": "code",
   "execution_count": 11,
   "metadata": {},
   "outputs": [],
   "source": [
    "def firstBinarySearch(arr,target):\n",
    "    l,r,ans = 0,len(arr)-1,-1\n",
    "    while(l<=r):\n",
    "        m = (l+r)//2\n",
    "        if(arr[m]<target):\n",
    "            l = m+1\n",
    "        elif(arr[m]==target):\n",
    "            ans = m\n",
    "            r = m-1\n",
    "        else:\n",
    "            r = m-1\n",
    "    return ans"
   ]
  },
  {
   "cell_type": "code",
   "execution_count": 12,
   "metadata": {},
   "outputs": [
    {
     "data": {
      "text/plain": [
       "1"
      ]
     },
     "execution_count": 12,
     "metadata": {},
     "output_type": "execute_result"
    }
   ],
   "source": [
    "firstBinarySearch([1,2,2,2,3,4,4,5,6,7,8,8,9],2)"
   ]
  },
  {
   "cell_type": "raw",
   "metadata": {},
   "source": [
    "in many programming languages there is linit(range) on int then if we use m = (l+r)2\n",
    "we can get integer overflow\n",
    "because if int range is 10^9 and l = 10^9-5 r = 10^9 -20 then l+r>10^9 which goes out of range\n",
    "so in those case use m = l + (r-l)/2"
   ]
  },
  {
   "cell_type": "raw",
   "metadata": {},
   "source": [
    "try a question ** spoj aggressive cows **"
   ]
  },
  {
   "cell_type": "markdown",
   "metadata": {},
   "source": [
    "# Advanced Binary Search \n",
    "** if maximum minimum / minimum maximum/ biggest smallest occur together possibility of binary search. \n",
    "\n",
    "    if we have range of answers and possible answers are continuous i.e. if 5 is answer then 4,3,2,1 all are answers then we can apply binary search on answers and then check if answer is correct or not\n",
    "### SPOJ Aggressive Cows\n",
    "https://www.spoj.com/problems/AGGRCOW/"
   ]
  },
  {
   "cell_type": "raw",
   "metadata": {},
   "source": []
  }
 ],
 "metadata": {
  "kernelspec": {
   "display_name": "Python 3",
   "language": "python",
   "name": "python3"
  },
  "language_info": {
   "codemirror_mode": {
    "name": "ipython",
    "version": 3
   },
   "file_extension": ".py",
   "mimetype": "text/x-python",
   "name": "python",
   "nbconvert_exporter": "python",
   "pygments_lexer": "ipython3",
   "version": "3.9.1"
  }
 },
 "nbformat": 4,
 "nbformat_minor": 4
}
