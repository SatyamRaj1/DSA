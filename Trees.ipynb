{
 "cells": [
  {
   "cell_type": "markdown",
   "metadata": {},
   "source": [
    "# Traversals"
   ]
  },
  {
   "cell_type": "raw",
   "metadata": {},
   "source": [
    "In order - LNR   left, root, right. (root in between)\n",
    "Pre Order - NLR  root, left, right. (root before both)\n",
    "Post Order - LRN left, right, root (root after both)"
   ]
  },
  {
   "cell_type": "markdown",
   "metadata": {},
   "source": [
    "### Creating a Tree"
   ]
  },
  {
   "cell_type": "code",
   "execution_count": 35,
   "metadata": {},
   "outputs": [],
   "source": [
    "class TreeNode:\n",
    "    def __init__(self,data,left=None,right=None):\n",
    "        self.data = data\n",
    "        self.left = left\n",
    "        self.right = right"
   ]
  },
  {
   "cell_type": "code",
   "execution_count": 36,
   "metadata": {},
   "outputs": [],
   "source": [
    "a = TreeNode(1)\n",
    "b = TreeNode(2)\n",
    "c = TreeNode(3)\n",
    "a.left = b\n",
    "a.right = c"
   ]
  },
  {
   "cell_type": "code",
   "execution_count": 37,
   "metadata": {},
   "outputs": [
    {
     "data": {
      "text/plain": [
       "(1, 2, 3)"
      ]
     },
     "execution_count": 37,
     "metadata": {},
     "output_type": "execute_result"
    }
   ],
   "source": [
    "a.data,a.left.data,a.right.data"
   ]
  },
  {
   "cell_type": "code",
   "execution_count": 38,
   "metadata": {},
   "outputs": [],
   "source": [
    "d = TreeNode(\"A\",TreeNode(\"B\",TreeNode(\"D\"),TreeNode(\"E\")),TreeNode(\"C\",TreeNode(\"F\"),TreeNode(\"G\")))"
   ]
  },
  {
   "cell_type": "raw",
   "metadata": {},
   "source": [
    "d =                 A\n",
    "                   / \\\n",
    "                  /   \\\n",
    "                 B     C\n",
    "                / \\   / \\ \n",
    "               D   E F   G"
   ]
  },
  {
   "cell_type": "markdown",
   "metadata": {},
   "source": [
    "#### Inorder Traversal"
   ]
  },
  {
   "cell_type": "code",
   "execution_count": 39,
   "metadata": {},
   "outputs": [],
   "source": [
    "def InOrder(root):\n",
    "    if root:\n",
    "        InOrder(root.left)\n",
    "        print(root.data)\n",
    "        InOrder(root.right)"
   ]
  },
  {
   "cell_type": "code",
   "execution_count": 40,
   "metadata": {},
   "outputs": [
    {
     "name": "stdout",
     "output_type": "stream",
     "text": [
      "D\n",
      "B\n",
      "E\n",
      "A\n",
      "F\n",
      "C\n",
      "G\n"
     ]
    }
   ],
   "source": [
    "InOrder(d)"
   ]
  },
  {
   "cell_type": "markdown",
   "metadata": {},
   "source": [
    "#### PreOrder Traversal"
   ]
  },
  {
   "cell_type": "code",
   "execution_count": 41,
   "metadata": {},
   "outputs": [],
   "source": [
    "def PreOrder(root):\n",
    "    if root:\n",
    "        print(root.data)\n",
    "        PreOrder(root.left)\n",
    "        PreOrder(root.right)"
   ]
  },
  {
   "cell_type": "code",
   "execution_count": 42,
   "metadata": {},
   "outputs": [
    {
     "name": "stdout",
     "output_type": "stream",
     "text": [
      "A\n",
      "B\n",
      "D\n",
      "E\n",
      "C\n",
      "F\n",
      "G\n"
     ]
    }
   ],
   "source": [
    "PreOrder(d)"
   ]
  },
  {
   "cell_type": "markdown",
   "metadata": {},
   "source": [
    "#### PostOrder Traversal"
   ]
  },
  {
   "cell_type": "code",
   "execution_count": 43,
   "metadata": {},
   "outputs": [],
   "source": [
    "def PostOrder(root):\n",
    "    if root:\n",
    "        PostOrder(root.left)\n",
    "        PostOrder(root.right)\n",
    "        print(root.data)"
   ]
  },
  {
   "cell_type": "code",
   "execution_count": 44,
   "metadata": {},
   "outputs": [
    {
     "name": "stdout",
     "output_type": "stream",
     "text": [
      "D\n",
      "E\n",
      "B\n",
      "F\n",
      "G\n",
      "C\n",
      "A\n"
     ]
    }
   ],
   "source": [
    "PostOrder(d)"
   ]
  },
  {
   "cell_type": "markdown",
   "metadata": {},
   "source": [
    "#### Level Order Traversal\n",
    "uses queue -> by default from right (append -> to right, pop -> to right so use appendleft and pop or append and popleft. \n",
    "If want to differentiate use a dummy node after each level"
   ]
  },
  {
   "cell_type": "code",
   "execution_count": 45,
   "metadata": {},
   "outputs": [],
   "source": [
    "from collections import deque\n",
    "def LevelOrder(root):\n",
    "    q = deque([root])\n",
    "    while q:\n",
    "        a = q.pop()\n",
    "        print(a.data)\n",
    "        if a.left:\n",
    "            q.appendleft(a.left)\n",
    "        if a.right:\n",
    "            q.appendleft(a.right)"
   ]
  },
  {
   "cell_type": "code",
   "execution_count": 46,
   "metadata": {},
   "outputs": [
    {
     "name": "stdout",
     "output_type": "stream",
     "text": [
      "A\n",
      "B\n",
      "C\n",
      "D\n",
      "E\n",
      "F\n",
      "G\n"
     ]
    }
   ],
   "source": [
    "LevelOrder(d)"
   ]
  },
  {
   "cell_type": "code",
   "execution_count": 47,
   "metadata": {},
   "outputs": [],
   "source": [
    "def LevelOrderTraversal(root):\n",
    "    result = []\n",
    "    currentlevel = []\n",
    "    q = deque([None,root])\n",
    "    while q:\n",
    "        a = q.pop()\n",
    "        if not a:\n",
    "            if q:\n",
    "                q.appendleft(None)\n",
    "            result.append(currentlevel)\n",
    "            currentlevel = []\n",
    "        else:\n",
    "            currentlevel.append(a.data)\n",
    "            if a.left:\n",
    "                q.appendleft(a.left)\n",
    "            if a.right:\n",
    "                q.appendleft(a.right)\n",
    "    return result"
   ]
  },
  {
   "cell_type": "code",
   "execution_count": 48,
   "metadata": {},
   "outputs": [
    {
     "name": "stdout",
     "output_type": "stream",
     "text": [
      "[['A'], ['B', 'C'], ['D', 'E', 'F', 'G']]\n"
     ]
    }
   ],
   "source": [
    "print(LevelOrderTraversal(d))"
   ]
  },
  {
   "cell_type": "code",
   "execution_count": 49,
   "metadata": {},
   "outputs": [],
   "source": [
    "root = TreeNode(2,TreeNode(3,TreeNode(5),TreeNode(6)),TreeNode(4,TreeNode(7)))"
   ]
  },
  {
   "cell_type": "raw",
   "metadata": {},
   "source": [
    "                    2\n",
    "                   / \\\n",
    "                  /   \\\n",
    "                 3     4\n",
    "                / \\   /  \n",
    "               5   6 7   "
   ]
  },
  {
   "cell_type": "markdown",
   "metadata": {},
   "source": [
    "## Example of Questions"
   ]
  },
  {
   "cell_type": "markdown",
   "metadata": {},
   "source": [
    "##### Sum of Binary Tree"
   ]
  },
  {
   "cell_type": "code",
   "execution_count": 50,
   "metadata": {},
   "outputs": [],
   "source": [
    "def SumofTree(root):\n",
    "    if not root:\n",
    "        return 0\n",
    "    return root.data+SumofTree(root.left)+SumofTree(root.right)"
   ]
  },
  {
   "cell_type": "code",
   "execution_count": 51,
   "metadata": {},
   "outputs": [
    {
     "data": {
      "text/plain": [
       "27"
      ]
     },
     "execution_count": 51,
     "metadata": {},
     "output_type": "execute_result"
    }
   ],
   "source": [
    "SumofTree(root)"
   ]
  },
  {
   "cell_type": "markdown",
   "metadata": {},
   "source": [
    "##### sum of all leaf nodes"
   ]
  },
  {
   "cell_type": "code",
   "execution_count": 52,
   "metadata": {},
   "outputs": [],
   "source": [
    "def SumofLeaf(root):\n",
    "    if not root:\n",
    "        return 0\n",
    "    if root.left or root.right:\n",
    "        return SumofLeaf(root.left)+SumofLeaf(root.right)\n",
    "    return root.data"
   ]
  },
  {
   "cell_type": "code",
   "execution_count": 53,
   "metadata": {},
   "outputs": [
    {
     "data": {
      "text/plain": [
       "18"
      ]
     },
     "execution_count": 53,
     "metadata": {},
     "output_type": "execute_result"
    }
   ],
   "source": [
    "SumofLeaf(root)"
   ]
  },
  {
   "cell_type": "markdown",
   "metadata": {},
   "source": [
    "### Invert Binary Tree"
   ]
  },
  {
   "cell_type": "code",
   "execution_count": 54,
   "metadata": {},
   "outputs": [],
   "source": [
    "def InvertTree(root):\n",
    "    if(root):\n",
    "        InvertTree(root.left);\n",
    "        InvertTree(root.right);\n",
    "        root.right, root.left = root.left, root.right\n",
    "    return root"
   ]
  },
  {
   "cell_type": "markdown",
   "metadata": {},
   "source": [
    "## Constructing a Tree from it's Traversals"
   ]
  },
  {
   "cell_type": "code",
   "execution_count": 55,
   "metadata": {},
   "outputs": [],
   "source": [
    "inomap = None\n",
    "pre = None\n",
    "def get_tree(prestart, preend, instart, inend):\n",
    "    ino_idx = inomap[pre[prestart]]\n",
    "    l = ino_idx - instart\n",
    "    r = inend - ino_idx\n",
    "    root = TreeNode (pre[prestart])\n",
    "    root.left = get_tree (prestart+l, prestart+l, instart, ino_idx-1) if 1 else None\n",
    "    root.right = get_tree(prestart+l+1, preend, ino_idx+1, inend) if r else None\n",
    "    return root\n",
    "def solve(n1, n2, preorder, inorder):\n",
    "    global inomap, pre\n",
    "    pre = preorder\n",
    "    inomap = {el:i for i, el in enumerate (inorder)}\n",
    "    return get_tree(0, n1-1, 0, n2-1)"
   ]
  },
  {
   "cell_type": "raw",
   "metadata": {},
   "source": [
    "we can find the index of first element of preorder element in inorder and the elements left to that index will be in left subtree of that index, element in right will be in right subtree and first element of preorder is always root of subtree. To find no. of elements in preorder which are in left subtree we can calculate from inorder elements and then next that no. of elements are in left subtree and remaining are in right subtree\n",
    "*** as we need to find everytime index in inorder so we can store in a map to optimize\n",
    "also slicing array takes O(n) time so we can pass indexes to optimize"
   ]
  },
  {
   "cell_type": "markdown",
   "metadata": {},
   "source": [
    "## Longest Zig Zag Path"
   ]
  },
  {
   "cell_type": "code",
   "execution_count": 56,
   "metadata": {},
   "outputs": [],
   "source": [
    "def CalculatePath(root, n, isleft):\n",
    "    if(root==None):\n",
    "        return n\n",
    "    if(isleft):\n",
    "        return max(CalculatePath(root.left, 1, 1), CalculatePath(root.right, n+1, 0))\n",
    "    return max(CalculatePath(root.left, n+1, 1), CalculatePath(root.right, 1, 0))\n",
    "def LongestZigZag(root):\n",
    "    if(root):\n",
    "        return max(CalculatePath(root.left, 1, 1), CalculatePath(root.right, 1, 0))\n",
    "    return 0"
   ]
  },
  {
   "cell_type": "markdown",
   "metadata": {},
   "source": [
    "## Longest Path in a Binary Tree"
   ]
  },
  {
   "cell_type": "code",
   "execution_count": 62,
   "metadata": {},
   "outputs": [],
   "source": [
    "def getPath(root):\n",
    "    if(root==None):\n",
    "        return 0,0\n",
    "    l1,l2 = getDia(root.left)\n",
    "    r1,r2 = getDia(root.right)\n",
    "    return max(l1,r1)+1, max(1+l1+r1,r2,l2)\n",
    "def LongestPath(root):\n",
    "    a,b = getDia(root)\n",
    "    return max(a,b)"
   ]
  },
  {
   "cell_type": "code",
   "execution_count": 63,
   "metadata": {},
   "outputs": [
    {
     "data": {
      "text/plain": [
       "5"
      ]
     },
     "execution_count": 63,
     "metadata": {},
     "output_type": "execute_result"
    }
   ],
   "source": [
    "LongestPath(root)"
   ]
  },
  {
   "cell_type": "markdown",
   "metadata": {},
   "source": [
    "## Lowest Common Ancestor"
   ]
  },
  {
   "cell_type": "code",
   "execution_count": 89,
   "metadata": {},
   "outputs": [],
   "source": [
    "def LCA(root,p,q):\n",
    "    if(root):\n",
    "        if(root==p or root==q):\n",
    "            return root\n",
    "        l,r = LCA(root.left,p,q) , LCA(root.right,p,q)\n",
    "        if(l and r):\n",
    "            return root\n",
    "        return l if l else r\n",
    "    return None"
   ]
  },
  {
   "cell_type": "code",
   "execution_count": 90,
   "metadata": {},
   "outputs": [
    {
     "data": {
      "text/plain": [
       "3"
      ]
     },
     "execution_count": 90,
     "metadata": {},
     "output_type": "execute_result"
    }
   ],
   "source": [
    "LCA(root, root.left.left, root.left.right).data"
   ]
  },
  {
   "cell_type": "markdown",
   "metadata": {},
   "source": [
    "### Right Side view\n",
    "M1 : Level Order Traversal\n"
   ]
  },
  {
   "cell_type": "raw",
   "metadata": {},
   "source": [
    "M2: Use Preorder Traversal and a map to store level as key and value as Node\n",
    "for left view don't update in map\n",
    "For top view : Use level order and store x coord as key"
   ]
  },
  {
   "cell_type": "markdown",
   "metadata": {},
   "source": [
    "### 297. Serialize and Deserialize Binary Tree"
   ]
  },
  {
   "cell_type": "code",
   "execution_count": 5,
   "metadata": {},
   "outputs": [],
   "source": [
    "class codec:\n",
    "    def serialize(self,root):\n",
    "        if(root):\n",
    "            return str(root.data)+\"(\"+self.serialize(root.left)+self.serialize(root.right)+\")\"\n",
    "        else:\n",
    "            return \"X\"\n",
    "    def deserialize(self,data):\n",
    "        if(data ==\"X\"):\n",
    "            return None\n",
    "        data.split(\"(\",1)\n",
    "        root = TreeNode(data[0])\n",
    "        c = 1\n",
    "        data = data[1]\n",
    "        for i in range(len(data)):\n",
    "            if data[i]==\"(\":\n",
    "                c+=1 \n",
    "            elif data[i]==\")\":\n",
    "                c-=1 \n",
    "                if c==0:\n",
    "                    root.left = self.deserialize (data[:i])\n",
    "                    root.right = self.deserialize (data[i+2:-1])\n",
    "            return root"
   ]
  },
  {
   "cell_type": "markdown",
   "metadata": {},
   "source": [
    "# Day 24"
   ]
  },
  {
   "cell_type": "code",
   "execution_count": null,
   "metadata": {},
   "outputs": [],
   "source": []
  }
 ],
 "metadata": {
  "kernelspec": {
   "display_name": "Python 3",
   "language": "python",
   "name": "python3"
  },
  "language_info": {
   "codemirror_mode": {
    "name": "ipython",
    "version": 3
   },
   "file_extension": ".py",
   "mimetype": "text/x-python",
   "name": "python",
   "nbconvert_exporter": "python",
   "pygments_lexer": "ipython3",
   "version": "3.9.1"
  }
 },
 "nbformat": 4,
 "nbformat_minor": 4
}
