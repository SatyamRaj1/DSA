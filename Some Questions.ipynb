{
 "cells": [
  {
   "cell_type": "markdown",
   "metadata": {},
   "source": [
    "## Two Sum\n",
    "https://leetcode.com/problems/two-sum/ \n",
    "Given an array of integers nums and an integer target, return indices of the two numbers such that they add up to target.\n",
    "\n",
    "You may assume that each input would have exactly one solution, and you may not use the same element twice.\n",
    "\n",
    "You can return the answer in any order."
   ]
  },
  {
   "cell_type": "raw",
   "metadata": {},
   "source": [
    "brute force : run two loops and check if arr[i] == arr[j]   O(n^2)\n",
    "M2 : two pointer approach   O(nlog(n))\n",
    "    we can first sort array(first make an array of tuples with index associated with value and then sort by their value)\n",
    "    then we can place one pointer at start one at end\n",
    "    if sum of init_pointer and final_pointer > target then final_pointer-- \n",
    "    if sum <target then init_pointer++\n",
    "    if sum == target then return indexes(arr[init_pointer][1],arr[final_pointer][1])\n",
    "M3: Hash Map/ Dictionary   O(nlog(n))\n",
    "    store values in map with element as key and index as value\n",
    "    then run a loop and check if target-key is a key of hash map or not\n",
    "    check while putting in loop only i.e. if we are putting 5 in hashmap first check \n",
    "    target-key is a key, if not then add in hashmap since searching in map is log(n) \n",
    "    operation so complexity O(nlog(n))\n",
    "    no problem in overlapping as it is said that unique solution will exist so if a value \n",
    "    is overlap then it will surely be not in ans"
   ]
  },
  {
   "cell_type": "code",
   "execution_count": 24,
   "metadata": {},
   "outputs": [],
   "source": [
    "def twoSum(arr,target):\n",
    "    m = {}\n",
    "    for i,val in enumerate(arr):\n",
    "        if target - val not in m:\n",
    "            m[val] = i\n",
    "        else:\n",
    "            return [m[target-val],i]  "
   ]
  },
  {
   "cell_type": "code",
   "execution_count": 27,
   "metadata": {},
   "outputs": [
    {
     "data": {
      "text/plain": [
       "[4, 7]"
      ]
     },
     "execution_count": 27,
     "metadata": {},
     "output_type": "execute_result"
    }
   ],
   "source": [
    "a = [2,3,6,4,8,3,2,5]\n",
    "twoSum(a,13)"
   ]
  },
  {
   "cell_type": "markdown",
   "metadata": {},
   "source": [
    "# Best Time to buy and sell stock \n",
    "https://leetcode.com/problems/best-time-to-buy-and-sell-stock/\n",
    "\n",
    "You are given an array prices where prices[i] is the price of a given stock on the ith day.\n",
    "You want to maximize your profit by choosing a single day to buy one stock and choosing a different day in the future to sell that stock.\n",
    "Return the maximum profit you can achieve from this transaction. If you cannot achieve any profit, return 0."
   ]
  },
  {
   "cell_type": "raw",
   "metadata": {},
   "source": [
    "Brute Force : look for every combination O(n^2)\n",
    "M2 : every time store least value(buying) if we are getting value more than current buying \n",
    "     then calculate profit and if it is more than maximum profit then update maximum profit\n",
    "     if value is less than buying price then update buying price"
   ]
  },
  {
   "cell_type": "code",
   "execution_count": 18,
   "metadata": {},
   "outputs": [],
   "source": [
    "def BestTimeToBuyAndSellStock(arr):\n",
    "    buyingPrice = arr[0]\n",
    "    maximumProfit = 0\n",
    "    for i in arr:\n",
    "        if i<buyingPrice:\n",
    "            buyingPrice = i\n",
    "        if i - buyingPrice > maximumProfit:\n",
    "            maximumProfit = i - buyingPrice\n",
    "    return maximumProfit"
   ]
  },
  {
   "cell_type": "code",
   "execution_count": 19,
   "metadata": {},
   "outputs": [
    {
     "data": {
      "text/plain": [
       "8"
      ]
     },
     "execution_count": 19,
     "metadata": {},
     "output_type": "execute_result"
    }
   ],
   "source": [
    "a = [2,5,8,1,4,6,9,0,7]\n",
    "BestTimeToBuyAndSellStock(a)"
   ]
  },
  {
   "cell_type": "markdown",
   "metadata": {},
   "source": [
    "# Remove duplicate from sorted array\n",
    "https://leetcode.com/problems/remove-duplicates-from-sorted-array/"
   ]
  },
  {
   "cell_type": "raw",
   "metadata": {},
   "source": [
    "if unsorted then list -> set -> list -> sort()\n",
    "                    O(n)   O(n)     O(nlog(n))\n",
    "since set has no order"
   ]
  },
  {
   "cell_type": "raw",
   "metadata": {},
   "source": [
    "for sorted we can directly check if last element of new sorted array is equal to current element of sorted original array, if equal then ignore, if not then append to new array"
   ]
  },
  {
   "cell_type": "code",
   "execution_count": 12,
   "metadata": {},
   "outputs": [],
   "source": [
    "def RemoveDuplicateFromSortedArrays(arr):\n",
    "    ans = []\n",
    "    ans.append(arr[0])\n",
    "    for i in arr:  # don't use arr[1:]  as it creates a copy of arr so extra n space\n",
    "        if ans[-1]!=i:\n",
    "            ans.append(i)\n",
    "    return ans"
   ]
  },
  {
   "cell_type": "code",
   "execution_count": 13,
   "metadata": {},
   "outputs": [
    {
     "data": {
      "text/plain": [
       "[1, 2, 3, 4, 5, 6, 7]"
      ]
     },
     "execution_count": 13,
     "metadata": {},
     "output_type": "execute_result"
    }
   ],
   "source": [
    "a = [1,1,2,2,3,4,5,6,6,6,6,6,7]\n",
    "RemoveDuplicateFromSortedArrays(a)"
   ]
  },
  {
   "cell_type": "raw",
   "metadata": {},
   "source": [
    "a = max(a,x)\n",
    "is slower than \n",
    "if x>a:\n",
    "    a = x so prefer it more"
   ]
  },
  {
   "cell_type": "markdown",
   "metadata": {},
   "source": [
    "# Maximum Subarray\n",
    "https://leetcode.com/problems/maximum-subarray/\n",
    "### Kadane's algorithm"
   ]
  },
  {
   "cell_type": "raw",
   "metadata": {},
   "source": [
    "for example if have no. 7,5,2,-1,-2,4,1 so if we start from starting then updating sum as we keep moving forward then in between we are getting -ve no. if those negative no.(s) are less than positive no. befare and after them then it will be beneficial to add them so that we can get both side positive no.(s) of them\n",
    "so if we maintain a current sum and if after adding all those -ve no.(s) and sum goes -ve then there is no meaning of adding -ve no.(s) as -ve sum till now + some positive no.(s) will lower their sum\n",
    "so if sum becomes -ve then make current sum 0\n",
    "use a global sum which stores max of all subarrays\n",
    "** if required to return range then also same type of basic algorithm"
   ]
  },
  {
   "cell_type": "code",
   "execution_count": 9,
   "metadata": {},
   "outputs": [],
   "source": [
    "def MaximumSubarray(arr):\n",
    "    n = len(arr)\n",
    "    currentSum = 0 #lower than lowest no. of array\n",
    "    maxSum = -9999999\n",
    "    #didn't consider case of empty array as in constraints no empty array\n",
    "    for i in arr:\n",
    "        currentSum += i\n",
    "        if(currentSum>maxSum):\n",
    "            maxSum = currentSum\n",
    "        if currentSum < 0:\n",
    "            currentSum = 0 #as in next iteration first adds element of array so no problem in all -ve no.(s))    \n",
    "    return maxSum"
   ]
  },
  {
   "cell_type": "code",
   "execution_count": 10,
   "metadata": {},
   "outputs": [
    {
     "data": {
      "text/plain": [
       "13"
      ]
     },
     "execution_count": 10,
     "metadata": {},
     "output_type": "execute_result"
    }
   ],
   "source": [
    "a = [5,2,-2,5,3,-4,-3,2,1]\n",
    "MaximumSubarray(a)"
   ]
  },
  {
   "cell_type": "markdown",
   "metadata": {},
   "source": [
    "## Rotate Matrix\n",
    "https://leetcode.com/problems/rotate-image/"
   ]
  },
  {
   "cell_type": "raw",
   "metadata": {},
   "source": [
    "M1 : consider as a rings and then use 4 way swap(rotate each element of that ring one by\n",
    "     one by calculating there position\n",
    "M2 : first reverse each row and then take transpose of matrix ( take mirror image across \n",
    "     anti-diagonal (along i,n-i diagonal) i.e. swap i,j with n - j -1 ,n - i -1 (only upto diagonal(as other will be swappend already) (swpping along diagonal so swwap one side of diagonal to another side) ex.\n",
    "     A B C D\n",
    "     E F G H\n",
    "     I J K L \n",
    "     M N O P\n",
    "     step 1: reverse rows\n",
    "     D C B A\n",
    "     H G F E\n",
    "     L K J I \n",
    "     P O N M\n",
    "     step 2: take transpose\n",
    "     M I E A\n",
    "     N K G B \n",
    "     O J F C\n",
    "     P L H D"
   ]
  },
  {
   "cell_type": "code",
   "execution_count": 5,
   "metadata": {},
   "outputs": [],
   "source": [
    "def RotateMatrix(image):\n",
    "    for row in image:\n",
    "        row.reverse()\n",
    "    n = len(image)\n",
    "    for i in range(n):\n",
    "        for j in range(n-i-1):\n",
    "            image[i][j],image[n-j-1][n-i-1] = image[n-j-1][n-i-1], image[i][j]\n",
    "    return image"
   ]
  },
  {
   "cell_type": "code",
   "execution_count": 6,
   "metadata": {},
   "outputs": [
    {
     "data": {
      "text/plain": [
       "[['M', 'I', 'E', 'A'],\n",
       " ['N', 'J', 'F', 'B'],\n",
       " ['O', 'K', 'G', 'C'],\n",
       " ['P', 'L', 'H', 'D']]"
      ]
     },
     "execution_count": 6,
     "metadata": {},
     "output_type": "execute_result"
    }
   ],
   "source": [
    "arr = [['A', 'B', 'C', 'D'],\n",
    "       ['E', 'F', 'G', 'H'],\n",
    "       ['I', 'J', 'K', 'L'],\n",
    "       ['M', 'N', 'O', 'P']]\n",
    "RotateMatrix(arr)"
   ]
  },
  {
   "cell_type": "raw",
   "metadata": {},
   "source": [
    "** if we want to transpose first then we have to reverse column wise"
   ]
  },
  {
   "cell_type": "markdown",
   "metadata": {},
   "source": [
    "## 2 Missing numbers using xor"
   ]
  },
  {
   "cell_type": "code",
   "execution_count": null,
   "metadata": {},
   "outputs": [],
   "source": []
  },
  {
   "cell_type": "markdown",
   "metadata": {},
   "source": [
    "## Container with most water\n",
    "https://leetcode.com/problems/container-with-most-water/"
   ]
  },
  {
   "cell_type": "raw",
   "metadata": {},
   "source": [
    "if we consider initial left and right walls then w = min(h1,h2)*d d->distance between them\n",
    "so now if we have to see other options then d will decrease so to increase water min(h1,h2) will have to increase so if h1 is less then h1 has to be increase.\n",
    "since h1 is the left most wall so to check if height increase we have to go right to it(to reduce d reduction) if we find a heigh which is more then h1-> either greater than h2 or less, calculate w = min(new h1,h2)*d\n",
    "if h1 is less than h2 then we have to again look for a new h1 so move right but if greater than h2 then now we will need to increase h2 which is right most wall so we need to move left of h2 and so on"
   ]
  },
  {
   "cell_type": "code",
   "execution_count": 34,
   "metadata": {},
   "outputs": [],
   "source": [
    "def ContainerWithMostWater(arr):\n",
    "    leftIndex = 0\n",
    "    rightIndex = len(arr)-1\n",
    "    h1 = arr[leftIndex]\n",
    "    h2 = arr[rightIndex]\n",
    "    maxWater = min(h1,h2)*rightIndex\n",
    "    while(leftIndex < rightIndex):\n",
    "        if(h1<h2):\n",
    "            leftIndex+=1\n",
    "            h1 = arr[leftIndex]\n",
    "        elif(h1>h2):\n",
    "            rightIndex-=1\n",
    "            h2 = arr[rightIndex]\n",
    "        else:\n",
    "            rightIndex-=1\n",
    "            leftIndex+=1\n",
    "            h1 = arr[leftIndex]\n",
    "            h2 = arr[rightIndex]\n",
    "        if(min(h1,h2)*(rightIndex-leftIndex) > maxWater):\n",
    "            maxWater = min(h1,h2)*(rightIndex-leftIndex)\n",
    "    return maxWater        "
   ]
  },
  {
   "cell_type": "code",
   "execution_count": 35,
   "metadata": {},
   "outputs": [
    {
     "data": {
      "text/plain": [
       "49"
      ]
     },
     "execution_count": 35,
     "metadata": {},
     "output_type": "execute_result"
    }
   ],
   "source": [
    "WaterLevels = [1,8,6,2,5,4,8,3,7]\n",
    "ContainerWithMostWater(WaterLevels)"
   ]
  },
  {
   "cell_type": "markdown",
   "metadata": {},
   "source": [
    "## SetMatrixZero\n",
    "https://leetcode.com/problems/set-matrix-zeroes/"
   ]
  },
  {
   "cell_type": "raw",
   "metadata": {},
   "source": [
    "Approach with O(1) space complexity:\n",
    "while iterating through matrix set first element of column and row to be 0 if i,j is 0 i.e.\n",
    "if A[i][j]==0 then A[i][0]=0 and A[0][j]=0.\n",
    "Then again traverse through 0th row and oth column and make the corresponding row and column 0\n",
    "Problem: if there is a zero in 0th row or 0th column then we have to make complete zeroth row as zero but since we have put zeros because of other cells in 0th row and column so it will create confusion\n",
    "Solution: Create a flag r = F and c =F and if a zero occur in 0th row or column then make r = T or c = T then traverse through remaining matrix and then make rows and column zeorro then make 0th column and 0th row zero(if r=T or c=T)"
   ]
  },
  {
   "cell_type": "code",
   "execution_count": 42,
   "metadata": {},
   "outputs": [],
   "source": [
    "def SetMatrixZero(arr):\n",
    "    c = False\n",
    "    r = False\n",
    "    n = len(arr)\n",
    "    m = len(arr[0])\n",
    "    for i in range(n):\n",
    "        if(arr[i][0]==0):\n",
    "            c = True\n",
    "    for i in range(m):\n",
    "        if(arr[0][i]==0):\n",
    "            r = True\n",
    "    for i in range(1,n):\n",
    "        for j in range(1,m):\n",
    "            if(arr[i][j]==0):\n",
    "                arr[i][0]=0\n",
    "                arr[0][j]=0\n",
    "    for i in range(1,n):\n",
    "        if(arr[i][0]==0):\n",
    "            for j in range(m):\n",
    "                arr[i][j]=0\n",
    "    for i in range(1,m):\n",
    "        if(arr[0][i]==0):\n",
    "            for j in range(n):\n",
    "                arr[j][i]=0\n",
    "    if(c):\n",
    "        for i in range(n):\n",
    "            arr[i][0]=0\n",
    "    if(r):\n",
    "        for i in range(m):\n",
    "            arr[0][i]=0\n",
    "    return arr"
   ]
  },
  {
   "cell_type": "code",
   "execution_count": 43,
   "metadata": {},
   "outputs": [
    {
     "data": {
      "text/plain": [
       "[[0, 0, 0, 0], [0, 4, 5, 0], [0, 3, 1, 0]]"
      ]
     },
     "execution_count": 43,
     "metadata": {},
     "output_type": "execute_result"
    }
   ],
   "source": [
    "arr = [[0,1,2,0],\n",
    "       [3,4,5,2],\n",
    "       [1,3,1,5]]\n",
    "SetMatrixZero(arr)"
   ]
  },
  {
   "cell_type": "markdown",
   "metadata": {},
   "source": [
    "## MergeIntervals\n",
    "https://leetcode.com/problems/merge-intervals/"
   ]
  },
  {
   "cell_type": "code",
   "execution_count": 45,
   "metadata": {},
   "outputs": [],
   "source": [
    "def MergeIntervals(arr):\n",
    "    ans = []\n",
    "    arr.sort()\n",
    "    s = arr[0][0]\n",
    "    e = arr[0][1]\n",
    "    for i in range(1,len(arr)):\n",
    "        if arr[i][0]<=e :  #merging\n",
    "            if(arr[i][1]<=e):\n",
    "                pass     #nothing needs to be done as next interval is completely inside previous\n",
    "            else:\n",
    "                e = arr[i][1]  \n",
    "        else:\n",
    "            ans.append([s,e])\n",
    "            s = arr[i][0]\n",
    "            e = arr[i][1]\n",
    "    ans.append([s,e])\n",
    "    return ans"
   ]
  },
  {
   "cell_type": "code",
   "execution_count": 46,
   "metadata": {},
   "outputs": [
    {
     "data": {
      "text/plain": [
       "[[1, 6], [8, 10], [15, 18]]"
      ]
     },
     "execution_count": 46,
     "metadata": {},
     "output_type": "execute_result"
    }
   ],
   "source": [
    "Intervals = [[1,3],[2,6],[8,10],[15,18]]\n",
    "MergeIntervals(Intervals)"
   ]
  },
  {
   "cell_type": "code",
   "execution_count": null,
   "metadata": {},
   "outputs": [],
   "source": []
  }
 ],
 "metadata": {
  "kernelspec": {
   "display_name": "Python 3",
   "language": "python",
   "name": "python3"
  },
  "language_info": {
   "codemirror_mode": {
    "name": "ipython",
    "version": 3
   },
   "file_extension": ".py",
   "mimetype": "text/x-python",
   "name": "python",
   "nbconvert_exporter": "python",
   "pygments_lexer": "ipython3",
   "version": "3.9.1"
  }
 },
 "nbformat": 4,
 "nbformat_minor": 4
}
