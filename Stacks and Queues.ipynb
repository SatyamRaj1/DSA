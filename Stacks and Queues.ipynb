{
 "cells": [
  {
   "cell_type": "markdown",
   "metadata": {},
   "source": [
    "# Stacks \n",
    "#### Functions in Stacks\n",
    "1. top() - gives top most element\n",
    "2. pop() - removes top most element\n",
    "3. push() - insert element at top\n",
    "4. isempty() - returns true if stack is empty\n",
    "5. isfull() - return true if stack is full(overflow conditions) (in case of static \n",
    "   memory(list of fixed size)"
   ]
  },
  {
   "cell_type": "markdown",
   "metadata": {},
   "source": [
    "# Queue\n",
    "#### Functions in Queues\n",
    "1. front() - gives front element - also called push\n",
    "2. dequeue() - removes front element - also called pop\n",
    "3. enqueue -  insert element from rear(behind)\n",
    "4. rear - gives last element\n",
    "5. isempty() - return true if Queue is empty\n",
    "6. isfull() - returns true if Queue is full\n",
    "\n",
    "** double ended queue\n",
    "we can push and pop from both side\n",
    "enqueueleft,enqueueright,dequeueleft,dequeueright\n",
    "d= deque()\n",
    "funtions: enque,pop,enqueueleft,popleft"
   ]
  },
  {
   "cell_type": "markdown",
   "metadata": {},
   "source": [
    "## Implementations\n",
    "1. we can use lists to store value :- push=append() and pop = pop()\n",
    "    but in list if we remove from front in queue then it is O(n) operation so it is not\n",
    "    optimized for queues\n",
    "    so we can keep two pointer and increase one(on push) and decrease other(on pop)\n",
    "    for memeory problem we can use a circular queue so if we reach to end then we go\n",
    "    again to start\n",
    "2. using linked lists"
   ]
  },
  {
   "cell_type": "code",
   "execution_count": null,
   "metadata": {},
   "outputs": [],
   "source": []
  }
 ],
 "metadata": {
  "kernelspec": {
   "display_name": "Python 3",
   "language": "python",
   "name": "python3"
  },
  "language_info": {
   "codemirror_mode": {
    "name": "ipython",
    "version": 3
   },
   "file_extension": ".py",
   "mimetype": "text/x-python",
   "name": "python",
   "nbconvert_exporter": "python",
   "pygments_lexer": "ipython3",
   "version": "3.9.1"
  }
 },
 "nbformat": 4,
 "nbformat_minor": 4
}
