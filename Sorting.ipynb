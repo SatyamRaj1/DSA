{
 "cells": [
  {
   "cell_type": "markdown",
   "metadata": {},
   "source": [
    "### Inbuit"
   ]
  },
  {
   "cell_type": "raw",
   "metadata": {},
   "source": [
    "sorted() function return sorted list( a new array)\n",
    "sort() function sorts list passed as an arguement"
   ]
  },
  {
   "cell_type": "code",
   "execution_count": 1,
   "metadata": {},
   "outputs": [
    {
     "data": {
      "text/plain": [
       "[1, 2, 2, 4, 5, 7, 32, 87, 243]"
      ]
     },
     "execution_count": 1,
     "metadata": {},
     "output_type": "execute_result"
    }
   ],
   "source": [
    "arr = [7,4,2,87,243,32,1,5,2]\n",
    "sorted(arr)"
   ]
  },
  {
   "cell_type": "code",
   "execution_count": 2,
   "metadata": {},
   "outputs": [
    {
     "data": {
      "text/plain": [
       "[7, 4, 2, 87, 243, 32, 1, 5, 2]"
      ]
     },
     "execution_count": 2,
     "metadata": {},
     "output_type": "execute_result"
    }
   ],
   "source": [
    "arr"
   ]
  },
  {
   "cell_type": "code",
   "execution_count": 5,
   "metadata": {},
   "outputs": [],
   "source": [
    "arr.sort()"
   ]
  },
  {
   "cell_type": "code",
   "execution_count": 6,
   "metadata": {},
   "outputs": [
    {
     "data": {
      "text/plain": [
       "[1, 2, 2, 4, 5, 7, 32, 87, 243]"
      ]
     },
     "execution_count": 6,
     "metadata": {},
     "output_type": "execute_result"
    }
   ],
   "source": [
    "arr"
   ]
  },
  {
   "cell_type": "markdown",
   "metadata": {},
   "source": [
    "### O(n^2) Algorithms"
   ]
  },
  {
   "cell_type": "markdown",
   "metadata": {},
   "source": [
    "## Bubble Sort\n",
    "compare two adjacent elements and if earlier is larger than swap both and compare every two adjacent so n iteration\n",
    "so in first iteration largest element comes to last postion of array, in second array second largest(largest of remaining array) comes to second last position of array and so on...\n",
    "so in n iteration array becomes sorted\n",
    "so total n^2 iterations\n",
    "To optimise use a flag so if no swap occurred in a iteration then array will be already sorted so we can break loop\n",
    "Also use iteration upto n-i-1 only as last i elements are already sorted(and last elements doesn't need to compared as can't compare with n+1th element"
   ]
  },
  {
   "cell_type": "code",
   "execution_count": 58,
   "metadata": {},
   "outputs": [],
   "source": [
    "def bubbleSort(arr):\n",
    "    n = len(arr)\n",
    "    for i in range(n-1):  #mostly n is used but can use n-1 also\n",
    "        flag = 0\n",
    "        for j in range(n-1-i):\n",
    "            if(arr[j]>arr[j+1]):\n",
    "                arr[j],arr[j+1] = arr[j+1],arr[j]\n",
    "                flag = 1\n",
    "        if(0==flag):            \n",
    "            break"
   ]
  },
  {
   "cell_type": "code",
   "execution_count": 59,
   "metadata": {},
   "outputs": [
    {
     "data": {
      "text/plain": [
       "[1, 2, 2, 4, 5, 7, 32, 87, 243]"
      ]
     },
     "execution_count": 59,
     "metadata": {},
     "output_type": "execute_result"
    }
   ],
   "source": [
    "arr = [7,4,2,87,243,32,1,5,2]\n",
    "bubbleSort(arr)\n",
    "arr #in python list is passed by reference (as it's id is passed so changes are resflected outside too)"
   ]
  },
  {
   "cell_type": "markdown",
   "metadata": {},
   "source": [
    "## Selection Sort\n",
    "find minimum element and then swap it with first element, then again find minimum among remaining and swap it with second element and so on...\n",
    "in searching for minimum n iteration and for n minimum(n-i also works), n iteration so O(n^2)"
   ]
  },
  {
   "cell_type": "code",
   "execution_count": 56,
   "metadata": {},
   "outputs": [],
   "source": [
    "def selectionSort(arr):\n",
    "    n = len(arr)\n",
    "    for i in range(n-1): #mostly n is used but can use n-1 also\n",
    "        minIndex = i\n",
    "        for j in range(i+1,n):\n",
    "            if(arr[j]<arr[minIndex]):\n",
    "                minIndex = j\n",
    "        arr[i], arr[minIndex] = arr[minIndex],arr[i]"
   ]
  },
  {
   "cell_type": "code",
   "execution_count": 57,
   "metadata": {},
   "outputs": [
    {
     "data": {
      "text/plain": [
       "[1, 2, 2, 4, 5, 7, 32, 87, 243]"
      ]
     },
     "execution_count": 57,
     "metadata": {},
     "output_type": "execute_result"
    }
   ],
   "source": [
    "arr = [7,4,2,87,243,32,1,5,2]\n",
    "selectionSort(arr)\n",
    "arr"
   ]
  },
  {
   "cell_type": "markdown",
   "metadata": {},
   "source": [
    "## Insertion Sort\n",
    "if we have some sorted array in start then if we take first element of remaining unsorted array and keep it in it's postion then by iterating through every element of unsorted part we can sort array\n",
    "So we take upto first element as sorted part(one element is always sorted) and find second element psition to be inserted(0th or first) then insert it there and move every element by one index\n",
    "so in intermediate stage if we have array like [1,2,4,5,23,212,15,18,19] so our array is sorted till 212(index 5) now if we check 15's position then we find that it has to be inserted after 4 so we keep on pushing every remaining element(from index 5) by one position and then insert 15 at that positon so array = [1,2,3,5,15,23,212,18,19] and then so on\n",
    "to start swaping(pushing 1 element) start from unsorted element and keep moving forward\n",
    "better is to not swap but to store wall and then finally insert it\n",
    "i.e \n",
    "[1,2,4,5,23,212,15,18,19] currind = 5 wallele = 15\n",
    "arr[currind] < wallele so arr[currind+1] = arr[currind]\n",
    "(move by one place) then currind--\n",
    "[1,2,4,5,23,212,212,18,19] \n",
    "then [1,2,4,23,23,212,18,19] currind = 4 wallele = 15\n",
    "now currind = 3 wallele = 15\n",
    "arr[currind] < wallele so arr[currind+1] = wallele\n",
    "\n"
   ]
  },
  {
   "cell_type": "code",
   "execution_count": 53,
   "metadata": {},
   "outputs": [],
   "source": [
    "def insertionSort(arr):\n",
    "    n = len(arr) \n",
    "    for wall in range(1,n):\n",
    "#         curr = wall\n",
    "#         while(curr > 0 and arr[curr]<arr[curr-1]):\n",
    "#             arr[curr],arr[curr-1] = arr[curr-1],arr[curr]\n",
    "#             curr-=1\n",
    "#Another \n",
    "        curr = wall - 1\n",
    "        wallval = arr[wall]\n",
    "        while(curr>=0 and arr[curr]>wallval):\n",
    "            arr[curr+1] = arr[curr]\n",
    "            curr-=1\n",
    "        arr[curr+1] = wallval"
   ]
  },
  {
   "cell_type": "code",
   "execution_count": 55,
   "metadata": {},
   "outputs": [
    {
     "data": {
      "text/plain": [
       "[2, 4, 5, 7, 15, 18, 23, 212, 500]"
      ]
     },
     "execution_count": 55,
     "metadata": {},
     "output_type": "execute_result"
    }
   ],
   "source": [
    "arr = [500,212,4,15,2,23,5,18,7]\n",
    "insertionSort(arr)\n",
    "arr  "
   ]
  },
  {
   "cell_type": "raw",
   "metadata": {},
   "source": [
    "so first time 1 comparision then second time 2 then 3... n-1 so complexity O(n^2)\n",
    "to improve we can use BinarySearch to find index but since we have to shift elements while will result in O(n) time so O(n^2) will remain but if we use BinarySearch then no. of comparisions will decrease so little Bit Faster"
   ]
  },
  {
   "cell_type": "markdown",
   "metadata": {},
   "source": [
    "### O(nlog(n)) complexity searching\n",
    "- MergeSort\n",
    "- QuickSort\n",
    "- HeapSort"
   ]
  },
  {
   "cell_type": "markdown",
   "metadata": {},
   "source": [
    "## MergeSort \n",
    "we divide array into two parts and then sort both parts then merge both parts\n",
    "ex = [1,7,3,98,2,4]\n",
    "so parts\n",
    "[1,7,3] and [98,2,4]\n",
    "now if somehow we sort both i.e.\n",
    "[1,3,7] and [2,4,98]\n",
    "now we can merge them \n",
    "[1,2,3,4,7,98]"
   ]
  },
  {
   "cell_type": "raw",
   "metadata": {},
   "source": [
    "Algorithm of Merging two sorted arrays A,B into arr:\n",
    "l = 0,r = 0,i = 0\n",
    "while(l<len(A) and r<len(b)):\n",
    "    if A[l]<B[r]:\n",
    "        arr[i++] = A[l++]\n",
    "    else:\n",
    "        arr[i++] = B[r++]\n",
    "while(l<len(A)):\n",
    "    arr[i++] = A[l++]\n",
    "while(r<len(B)):\n",
    "    arr[i++] = B[r++]"
   ]
  },
  {
   "cell_type": "raw",
   "metadata": {},
   "source": [
    "we keep recursively divide array into two parts and then merge then. While recursively dividing we reach to a stage where array length = 1 and a single element is always sorted then we combine 2 array of length 1 by merge which result in sorted array and then merge of length 2 and so on...\n",
    "Therefore, in short we never sorted but keep dividing and then merging which resulted in sorted"
   ]
  },
  {
   "cell_type": "code",
   "execution_count": 65,
   "metadata": {},
   "outputs": [],
   "source": [
    "def mergeSort(arr):\n",
    "    if len(arr)>1:\n",
    "        m = len(arr)//2\n",
    "        A = arr[:m]\n",
    "        B = arr[m:]\n",
    "        mergeSort(A)\n",
    "        mergeSort(B)\n",
    "        # Merging\n",
    "        l,r,i = 0,0,0\n",
    "        while(l<len(A) and r<len(B)):\n",
    "            if(A[l]<B[r]):\n",
    "                arr[i] = A[l]\n",
    "                l+=1\n",
    "            else:\n",
    "                arr[i] = B[r]\n",
    "                r+=1\n",
    "            i+=1\n",
    "        while(l<len(A)):\n",
    "            arr[i] = A[l]\n",
    "            l+=1\n",
    "            i+=1\n",
    "        while(r<len(B)):\n",
    "            arr[i] = B[r]\n",
    "            r+=1\n",
    "            i+=1"
   ]
  },
  {
   "cell_type": "code",
   "execution_count": 66,
   "metadata": {},
   "outputs": [
    {
     "data": {
      "text/plain": [
       "[1, 2, 2, 4, 5, 7, 32, 87, 243]"
      ]
     },
     "execution_count": 66,
     "metadata": {},
     "output_type": "execute_result"
    }
   ],
   "source": [
    "arr = [7,4,2,87,243,32,1,5,2]\n",
    "mergeSort(arr)\n",
    "arr"
   ]
  },
  {
   "cell_type": "raw",
   "metadata": {},
   "source": [
    "Time Complexity : O(nlog(n))\n",
    "as in each level of tree n comparisions are made \n",
    "if n/4 size of subarrays then n/4+n/4 merge two n/4 , n/4+n/4 merge another\n",
    "so in each level n\n",
    "and in each level size /2 so log(n)\n",
    "\n",
    "Space Complexity : O(n)\n",
    "in each iteration we are taking two list of n/2 , n/2 size (A,B) so in each step we are using n extra space in each step\n",
    "but processes aren't run parallel so first we are using first n/2 this n/4 this n/8 and all this only are stored in call stack so in call stack space stored for left subtree\n",
    "n/2 + n/4 + n/8 +... = n\n",
    "therefore at a time in call stack only n space is used so total space complexity = O(n)\n",
    "maximum space used at a time. = O(n) as in another subtree values stored in call stack are deleted, making call stack free and then again filled so in total never space is more then O(n)\n",
    "** in space never multiply tree length and space for each step for space complexity"
   ]
  }
 ],
 "metadata": {
  "kernelspec": {
   "display_name": "Python 3",
   "language": "python",
   "name": "python3"
  },
  "language_info": {
   "codemirror_mode": {
    "name": "ipython",
    "version": 3
   },
   "file_extension": ".py",
   "mimetype": "text/x-python",
   "name": "python",
   "nbconvert_exporter": "python",
   "pygments_lexer": "ipython3",
   "version": "3.9.1"
  }
 },
 "nbformat": 4,
 "nbformat_minor": 4
}
