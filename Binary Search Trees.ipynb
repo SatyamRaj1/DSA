{
 "cells": [
  {
   "cell_type": "markdown",
   "metadata": {},
   "source": [
    "# Binary Search Tree\n",
    "for a node all the nodes in its left subtree are smaller than the node and all the nodes in its right subtree are greater than that node"
   ]
  },
  {
   "cell_type": "markdown",
   "metadata": {},
   "source": [
    "### Searching in BST\n",
    "To search a node in BST we compare it with root node if it is equal then return root else if it is smaller then we go to left subtree of root and if node is greater than root node then we go to right subtree of BST"
   ]
  },
  {
   "cell_type": "markdown",
   "metadata": {},
   "source": [
    "### Inserting a Node in BST\n",
    "a node is always inserted at the leaf node of a binary search tree \n",
    "To insert a node we first find it's place, this is done by searching the value of node in BST and wherever we encounter NULL we arrive at the place to insert the given node"
   ]
  },
  {
   "cell_type": "markdown",
   "metadata": {},
   "source": [
    "### Deleting a Node in BST\n",
    "##### Case 1: if the node doesn't have any children i.e., it is a leaf node\n",
    "Then we can simply delete the leaf node and set it's parent left/right child(whichever our node is) to be NULL\n",
    "##### Case 2: if the node has exactly one children \n",
    "Then we can replace the child of node at its place and delete the node \n",
    "if A is parent of node to be deleted (B) then and it is left child and it has a child at right then A.left = A.left.right, delete(B)\n",
    "##### Case 3: if node has exactly two children\n",
    "we can replace node with the largest node in left subtree (right most node)\n",
    "/ smallest node in right subtree (left most node)<br>\n",
    "if largest/smallest node contains a subtree i.e., it has a children then put that node node to be deleted and delete largest/smallest node (case 2)"
   ]
  },
  {
   "cell_type": "markdown",
   "metadata": {},
   "source": [
    "Note : Inorder traversal will give sorted array"
   ]
  },
  {
   "cell_type": "markdown",
   "metadata": {},
   "source": [
    "### Validate BST"
   ]
  },
  {
   "cell_type": "code",
   "execution_count": 2,
   "metadata": {},
   "outputs": [],
   "source": [
    "def f1(root, low, high):\n",
    "    if(root):\n",
    "        if(root.data>=low and root.data<=high):\n",
    "            return f1(root.left, low, root.data-1) and f1(root.right, root.data+1, high)\n",
    "        else:\n",
    "            return False\n",
    "    return True\n",
    "def valBST1(root):\n",
    "    return f1(root, -(2<<31 + 1), (2<<31))"
   ]
  },
  {
   "cell_type": "code",
   "execution_count": 4,
   "metadata": {},
   "outputs": [],
   "source": [
    "minim = None\n",
    "def f2(root):\n",
    "    if(root):\n",
    "        if not f2(root.left):\n",
    "            return false\n",
    "        if(f2>=minim):\n",
    "            minim = root.data - 1\n",
    "        else:\n",
    "            return False\n",
    "        return f2(root.right)\n",
    "    return True\n",
    "def valBST2(root):\n",
    "    global minim\n",
    "    minim = -(2<<31 + 1)\n",
    "    return f2(root)"
   ]
  },
  {
   "cell_type": "markdown",
   "metadata": {},
   "source": [
    "### Two Sum IV\n",
    "M1 : Use Inorder travesal and store in a list then apply 2 pointer to find pair(list comes sorted) <br>\n",
    "M2 : Use map/set to store and then traverse and check if sum-element is present or not<br>\n",
    "M3 : Flattening of BST into doubly linked list(solution below) . Benefit - if continuous memory of that much size   is not present then we should not use list/map <br>"
   ]
  },
  {
   "cell_type": "raw",
   "metadata": {},
   "source": [
    "  N\n",
    " / \\        == L-N-R\n",
    "L   R  "
   ]
  },
  {
   "cell_type": "code",
   "execution_count": 12,
   "metadata": {},
   "outputs": [],
   "source": [
    "def FlatTree(root):\n",
    "    if(root):\n",
    "        hl,tl = FlatTree(root.left)\n",
    "        hr,tr = FlatTree(root.right)\n",
    "        if(tl):\n",
    "            tl.right = root\n",
    "            root.left = tl\n",
    "        if(hr):\n",
    "            root.right = hr \n",
    "            hr.left = root\n",
    "        if(hl and tr):\n",
    "            return hl,tr \n",
    "        elif(hl):\n",
    "            return hl,root\n",
    "        elif(hr):\n",
    "            return root,tr\n",
    "        else:\n",
    "            return root,root\n",
    "    return None, None\n",
    "\n",
    "def TwoSumIV(root, k):\n",
    "    l,r = FlatTree(root)\n",
    "    while(l.val!=r.val): #assuming no duplicate values in BST\n",
    "        sum = l.val+r.val\n",
    "        if(sum>k):\n",
    "            r = r.left\n",
    "        elif(sum<k):\n",
    "            l = l.right\n",
    "        else:\n",
    "            return 1\n",
    "    return 0"
   ]
  },
  {
   "cell_type": "markdown",
   "metadata": {},
   "source": [
    "### Kth Smallest Element"
   ]
  },
  {
   "cell_type": "code",
   "execution_count": 1,
   "metadata": {},
   "outputs": [],
   "source": [
    "i = 0\n",
    "def KSmallestElement(root, k):\n",
    "    global i\n",
    "    if(root):\n",
    "        a = KSmallestElement(root.left,k)\n",
    "        if(i==k):\n",
    "            return a\n",
    "        i+=1\n",
    "        if(i==k):\n",
    "            return root.val\n",
    "        return KSmallestElement(root.right,k)\n",
    "    return -1"
   ]
  },
  {
   "cell_type": "markdown",
   "metadata": {},
   "source": [
    "## Maximum Sum BST"
   ]
  },
  {
   "cell_type": "code",
   "execution_count": 2,
   "metadata": {},
   "outputs": [],
   "source": [
    "class MaximumSumBST:\n",
    "    maximumSum = 0\n",
    "    def GetMaximumSum(self, root):\n",
    "        if root:\n",
    "            leftlow, lefthigh, leftsum = self.GetMaximumSum(root.left)\n",
    "            rightlow, righthigh, rightsum = self.GetMaximumSum(root.right)\n",
    "            if(lefthigh<root.val<rightlow):\n",
    "                leftlow = min(leftlow, root.val)\n",
    "                righthigh = max(righthigh, root.val)\n",
    "                a = leftsum+rightsum+root.val\n",
    "                self.maximumSum = max(a, self.maximumSum)\n",
    "                return leftlow, righthigh, a\n",
    "            else:\n",
    "                return -(10**5), 10**5, 0\n",
    "        return 10**5, -(10**5), 0\n",
    "    def MaxSumBST(self, root):\n",
    "        self.GetMaximumSum(root)\n",
    "        return self.maximumSum"
   ]
  }
 ],
 "metadata": {
  "kernelspec": {
   "display_name": "Python 3",
   "language": "python",
   "name": "python3"
  },
  "language_info": {
   "codemirror_mode": {
    "name": "ipython",
    "version": 3
   },
   "file_extension": ".py",
   "mimetype": "text/x-python",
   "name": "python",
   "nbconvert_exporter": "python",
   "pygments_lexer": "ipython3",
   "version": "3.9.1"
  }
 },
 "nbformat": 4,
 "nbformat_minor": 4
}
